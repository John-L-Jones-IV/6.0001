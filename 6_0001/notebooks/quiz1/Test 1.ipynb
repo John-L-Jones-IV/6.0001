{
 "cells": [
  {
   "cell_type": "markdown",
   "metadata": {},
   "source": [
    "# Quiz 1\n",
    "MIT OCW 6.0001 <br>\n",
    "Name: <br>\n",
    "Date: <br>"
   ]
  },
  {
   "cell_type": "markdown",
   "metadata": {},
   "source": [
    "## Topics\n",
    "1. Branching\n",
    "2. Iteration\n",
    "3. String Manipulation\n",
    "4. Guess and Check\n",
    "5. Approximation\n",
    "6. Bisection\n",
    "7. Decompostion\n",
    "8. Abstraction\n",
    "9. Functions\n",
    "10. Tuples\n",
    "11. Lists\n",
    "12. Aliasing \n",
    "13. Mutability\n",
    "14. Cloning\n",
    "15. Recursion\n",
    "16. Dictionaries"
   ]
  },
  {
   "cell_type": "markdown",
   "metadata": {},
   "source": [
    "### 1.\n",
    "What is the ouput of the python code below?"
   ]
  },
  {
   "cell_type": "code",
   "execution_count": null,
   "metadata": {},
   "outputs": [],
   "source": [
    "nums = [1 2 3 5 7 10]\n",
    "for i in nums:\n",
    "    if i % 2:\n",
    "        print('hello')\n",
    "    if i % 3 == 0:\n",
    "        print('world')"
   ]
  },
  {
   "cell_type": "raw",
   "metadata": {},
   "source": []
  },
  {
   "cell_type": "markdown",
   "metadata": {},
   "source": [
    "### 2.\n",
    "Finish the program. Asks the user for a postive integer input then uses an itterate method to find the square root. <br> Hint: this is very simular to the perfect square example in lecture."
   ]
  },
  {
   "cell_type": "code",
   "execution_count": null,
   "metadata": {},
   "outputs": [],
   "source": [
    "ans = 0\n",
    "x = 64\n",
    "while () : # insert your expression here\n",
    "    pass\n",
    "    # insert your code here\n",
    "if (): # insert your expression in the parans here\n",
    "    print('Cube root of', x, 'is', ans)\n",
    "else:\n",
    "    print(x, 'is not a perfect square')"
   ]
  },
  {
   "cell_type": "raw",
   "metadata": {},
   "source": [
    "Cube root of x is 4"
   ]
  },
  {
   "cell_type": "markdown",
   "metadata": {},
   "source": [
    "### 3.\n",
    "What is the output of this program?\n"
   ]
  },
  {
   "cell_type": "code",
   "execution_count": null,
   "metadata": {},
   "outputs": [],
   "source": [
    "s = 'My Name is Jonas'\n",
    "s = s.lower().split()\n",
    "print(s[3], s[2][0], s[3][-1], s[1][-2:])"
   ]
  },
  {
   "cell_type": "raw",
   "metadata": {},
   "source": []
  },
  {
   "cell_type": "markdown",
   "metadata": {},
   "source": [
    "### 4. \n",
    "Write a guess and check method to find the cube root of 27."
   ]
  },
  {
   "cell_type": "code",
   "execution_count": null,
   "metadata": {},
   "outputs": [],
   "source": []
  },
  {
   "cell_type": "raw",
   "metadata": {},
   "source": [
    "Cube root of 27 is 3"
   ]
  },
  {
   "cell_type": "markdown",
   "metadata": {},
   "source": [
    "### 5.\n",
    "Explain the advantages and disadvantages of integers and floats."
   ]
  },
  {
   "cell_type": "raw",
   "metadata": {},
   "source": []
  }
 ],
 "metadata": {
  "kernelspec": {
   "display_name": "Python 3",
   "language": "python",
   "name": "python3"
  },
  "language_info": {
   "codemirror_mode": {
    "name": "ipython",
    "version": 3
   },
   "file_extension": ".py",
   "mimetype": "text/x-python",
   "name": "python",
   "nbconvert_exporter": "python",
   "pygments_lexer": "ipython3",
   "version": "3.6.8"
  }
 },
 "nbformat": 4,
 "nbformat_minor": 2
}
